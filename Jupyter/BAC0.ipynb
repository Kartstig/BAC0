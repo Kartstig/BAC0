{
 "cells": [
  {
   "cell_type": "markdown",
   "metadata": {},
   "source": [
    "# BAC0\n",
    "\n",
    "BAC0 is a script module based on bacpypes (https://github.com/JoelBender/bacpypes.git) to automate task using Bacnet/IP protocole. It's mainly targetted as a tool to test sequences on DDC controlelrs using bacnet.\n",
    "\n",
    "Using the simplciity of python, the power of pandas, it's easy to test and keep a trace of the history of each points.\n",
    "\n",
    "## How to use\n",
    "\n",
    "First you must install the 2 modules\n",
    "pip install bacpypes\n",
    "- git clone https://github.com/ChristianTremblay/BAC0.git (python setup.py install)\n",
    "\n",
    "Note : All tests have been done in Windows 7 using Anaconda3 (http://continuum.io/downloads)"
   ]
  },
  {
   "cell_type": "markdown",
   "metadata": {},
   "source": [
    "## Import module"
   ]
  },
  {
   "cell_type": "code",
   "execution_count": 1,
   "metadata": {
    "collapsed": false,
    "scrolled": false
   },
   "outputs": [
    {
     "name": "stderr",
     "output_type": "stream",
     "text": [
      "/home/pi/miniconda3/lib/python3.4/importlib/_bootstrap.py:321: FutureWarning: The pandas.lib module is deprecated and will be removed in a future version. These are private functions and can be accessed from pandas._libs.lib instead\n",
      "  return f(*args, **kwds)\n"
     ]
    },
    {
     "name": "stdout",
     "output_type": "stream",
     "text": [
      "xlwings not installed. If using Windows or OSX, install to get more features.\n",
      "Using ip : 192.168.111.13\n",
      "Click here to open Live Trending Web Page\n",
      "http://localhost:5006/?bokeh-session-id=0v2rWfXDL7ipg0yn3TfR8nJX35jfOners4zsE2pIaENq\n",
      "Failed running bokeh serve\n",
      "Bokeh server already running\n"
     ]
    }
   ],
   "source": [
    "import BAC0\n",
    "import pandas as pd\n",
    "%matplotlib inline\n",
    "# Define network and connect to it\n",
    "bacnet = BAC0.connect()"
   ]
  },
  {
   "cell_type": "code",
   "execution_count": null,
   "metadata": {
    "collapsed": false
   },
   "outputs": [],
   "source": [
    "BAC0.version"
   ]
  },
  {
   "cell_type": "code",
   "execution_count": null,
   "metadata": {
    "collapsed": false,
    "scrolled": true
   },
   "outputs": [],
   "source": [
    "# Define the controller using : controller = BAC0.device(address, device_id, network)\n",
    "fx = BAC0.device('2:5',5,bacnet)"
   ]
  },
  {
   "cell_type": "code",
   "execution_count": null,
   "metadata": {
    "collapsed": false,
    "scrolled": true
   },
   "outputs": [],
   "source": [
    "# Access points list\n",
    "fx.points"
   ]
  },
  {
   "cell_type": "code",
   "execution_count": null,
   "metadata": {
    "collapsed": false
   },
   "outputs": [],
   "source": [
    "# Create a table with multiple points\n",
    "\n",
    "lst = ['nvoAI1', 'nvoAI2', 'nvoDI1']\n",
    "\n",
    "fx.df(lst).fillna(method='ffill')"
   ]
  },
  {
   "cell_type": "code",
   "execution_count": null,
   "metadata": {
    "collapsed": false,
    "scrolled": true
   },
   "outputs": [],
   "source": [
    "# Create a trend with multiple points using the DataFrame\n",
    "\n",
    "lst = ['nvoAI1', 'nvoAI2']\n",
    "\n",
    "\n",
    "fx.df(lst).resample('1min').plot(title='My title')"
   ]
  },
  {
   "cell_type": "code",
   "execution_count": null,
   "metadata": {
    "collapsed": false
   },
   "outputs": [],
   "source": [
    "fx.chart(lst, title='My title')"
   ]
  },
  {
   "cell_type": "code",
   "execution_count": null,
   "metadata": {
    "collapsed": false,
    "scrolled": true
   },
   "outputs": [],
   "source": [
    "fx.notes = 'New note to remember'\n",
    "fx.notes"
   ]
  },
  {
   "cell_type": "code",
   "execution_count": null,
   "metadata": {
    "collapsed": false
   },
   "outputs": [],
   "source": [
    "fx"
   ]
  },
  {
   "cell_type": "markdown",
   "metadata": {},
   "source": [
    "### Finding devices on a network"
   ]
  },
  {
   "cell_type": "code",
   "execution_count": null,
   "metadata": {
    "collapsed": false
   },
   "outputs": [],
   "source": [
    "bacnet.whois() # Note that this function is called automatically in ReadWriteScript\n",
    "\n",
    "# The result takes a few milliseconds to be processed... it can be used in the same cell."
   ]
  },
  {
   "cell_type": "markdown",
   "metadata": {},
   "source": [
    "### Using the bacnet object to read  or write objects from devices"
   ]
  },
  {
   "cell_type": "markdown",
   "metadata": {},
   "source": [
    "Accessing the list of object of a device can be done using the objectList property\n"
   ]
  },
  {
   "cell_type": "code",
   "execution_count": null,
   "metadata": {
    "collapsed": false
   },
   "outputs": [],
   "source": [
    "# Let's print the first 10 objects...\n",
    "bacnet.read('2:5 device 5 objectList')[:10]"
   ]
  },
  {
   "cell_type": "code",
   "execution_count": null,
   "metadata": {
    "collapsed": false
   },
   "outputs": [],
   "source": [
    "bacnet.readMultiple('2:5 analogInput 1 objectName description presentValue units')"
   ]
  },
  {
   "cell_type": "code",
   "execution_count": null,
   "metadata": {
    "collapsed": false
   },
   "outputs": [],
   "source": [
    "import time\n",
    "obj = '2:5 analogValue 41 presentValue'\n",
    "old_value = bacnet.read(obj)\n",
    "print('Old Value is : %s' % old_value)\n",
    "new_value = 120\n",
    "\n",
    "bacnet.write('%s %s' % (obj,new_value))\n",
    "print('New value is %s' % bacnet.read(obj))"
   ]
  },
  {
   "cell_type": "markdown",
   "metadata": {},
   "source": [
    "## Stopping the app"
   ]
  },
  {
   "cell_type": "code",
   "execution_count": null,
   "metadata": {
    "collapsed": false
   },
   "outputs": [],
   "source": [
    "bacnet.disconnect()"
   ]
  }
 ],
 "metadata": {
  "kernelspec": {
   "display_name": "Python 3",
   "language": "python",
   "name": "python3"
  },
  "language_info": {
   "codemirror_mode": {
    "name": "ipython",
    "version": 3
   },
   "file_extension": ".py",
   "mimetype": "text/x-python",
   "name": "python",
   "nbconvert_exporter": "python",
   "pygments_lexer": "ipython3",
   "version": "3.4.3"
  }
 },
 "nbformat": 4,
 "nbformat_minor": 0
}